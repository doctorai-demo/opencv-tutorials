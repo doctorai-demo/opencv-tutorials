{
 "cells": [
  {
   "cell_type": "markdown",
   "metadata": {
    "id": "j4RpK9pawQzP"
   },
   "source": [
    "# OpenCV Image Translation"
   ]
  },
  {
   "cell_type": "code",
   "execution_count": null,
   "metadata": {},
   "outputs": [],
   "source": [
    "!wget https://github.com/doctorai-demo/opencv-tutorials/raw/main/chapter-1-basics/images/opencv_logo.png"
   ]
  },
  {
   "cell_type": "markdown",
   "metadata": {
    "id": "wcrOk6pURp50"
   },
   "source": [
    "### Import Packages"
   ]
  },
  {
   "cell_type": "code",
   "execution_count": null,
   "metadata": {
    "id": "VJaCNlDDRz6d"
   },
   "outputs": [],
   "source": [
    "# import the necessary packages\n",
    "from matplotlib import pyplot as plt\n",
    "import numpy as np\n",
    "import argparse\n",
    "import imutils\n",
    "import cv2"
   ]
  },
  {
   "cell_type": "markdown",
   "metadata": {
    "id": "lBrLwCtN5kqy"
   },
   "source": [
    "### Function to display images in Jupyter Notebooks and Google Colab"
   ]
  },
  {
   "cell_type": "code",
   "execution_count": null,
   "metadata": {
    "id": "fRw969Dp5Kdm"
   },
   "outputs": [],
   "source": [
    "def plt_imshow(title, image):\n",
    "\t# convert the image frame BGR to RGB color space and display it\n",
    "\timage = cv2.cvtColor(image, cv2.COLOR_BGR2RGB)\n",
    "\tplt.imshow(image)\n",
    "\tplt.title(title)\n",
    "\tplt.grid(False)\n",
    "\tplt.show()"
   ]
  },
  {
   "cell_type": "markdown",
   "metadata": {
    "id": "Jppw5-Bd56H-"
   },
   "source": [
    "### Image translation with OpenCV"
   ]
  },
  {
   "cell_type": "code",
   "execution_count": null,
   "metadata": {
    "id": "okM7Bpyeq8Kc"
   },
   "outputs": [],
   "source": [
    "args = {\n",
    "    \"image\": \"opencv_logo.png\"\n",
    "}"
   ]
  },
  {
   "cell_type": "code",
   "execution_count": null,
   "metadata": {
    "id": "-QODA6yQzzo_"
   },
   "outputs": [],
   "source": [
    "# load the image and display it to our screen\n",
    "image = cv2.imread(args[\"image\"])\n",
    "plt_imshow(\"Original\", image)\n",
    "\n",
    "# shift the image 25 pixels to the right and 50 pixels down\n",
    "M = np.float32([[1, 0, 25], [0, 1, 50]])\n",
    "shifted = cv2.warpAffine(image, M, (image.shape[1], image.shape[0]))\n",
    "plt_imshow(\"Shifted Down and Right\", shifted)"
   ]
  },
  {
   "cell_type": "code",
   "execution_count": null,
   "metadata": {
    "id": "j7_mADGiz19T"
   },
   "outputs": [],
   "source": [
    "# now, let's shift the image 50 pixels to the left and 90 pixels\n",
    "# up by specifying negative values for the x and y directions,\n",
    "# respectively\n",
    "M = np.float32([[1, 0, -50], [0, 1, -90]])\n",
    "shifted = cv2.warpAffine(image, M, (image.shape[1], image.shape[0]))\n",
    "plt_imshow(\"Shifted Up and Left\", shifted)"
   ]
  },
  {
   "cell_type": "code",
   "execution_count": null,
   "metadata": {
    "id": "NmPhNZzEz7sg"
   },
   "outputs": [],
   "source": [
    "# use the imutils helper function to translate the image 100 pixels\n",
    "# down in a single function call\n",
    "shifted = imutils.translate(image, 0, 100)\n",
    "plt_imshow(\"Shifted Down\", shifted)"
   ]
  }
 ],
 "metadata": {
  "colab": {
   "collapsed_sections": [],
   "name": "opencv_translate.ipynb",
   "provenance": []
  },
  "kernelspec": {
   "display_name": "Python 3 (ipykernel)",
   "language": "python",
   "name": "python3"
  },
  "language_info": {
   "codemirror_mode": {
    "name": "ipython",
    "version": 3
   },
   "file_extension": ".py",
   "mimetype": "text/x-python",
   "name": "python",
   "nbconvert_exporter": "python",
   "pygments_lexer": "ipython3",
   "version": "3.8.10"
  }
 },
 "nbformat": 4,
 "nbformat_minor": 1
}
