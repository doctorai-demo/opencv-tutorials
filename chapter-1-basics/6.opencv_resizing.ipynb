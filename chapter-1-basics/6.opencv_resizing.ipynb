{
 "cells": [
  {
   "cell_type": "markdown",
   "metadata": {
    "id": "c7uPgNc0NyO7"
   },
   "source": [
    "# OpenCV Resize Image ( cv2.resize )"
   ]
  },
  {
   "cell_type": "code",
   "execution_count": null,
   "metadata": {},
   "outputs": [],
   "source": [
    "!wget https://github.com/doctorai-demo/opencv-tutorials/raw/main/chapter-1-basics/images/minions.jpeg"
   ]
  },
  {
   "cell_type": "markdown",
   "metadata": {
    "id": "BcmY4DDJOSIt"
   },
   "source": [
    "### Import Packages"
   ]
  },
  {
   "cell_type": "code",
   "execution_count": null,
   "metadata": {
    "id": "BlcPho8lOOuF"
   },
   "outputs": [],
   "source": [
    "# import the necessary packages\n",
    "import matplotlib.pyplot as plt\n",
    "import argparse\n",
    "import imutils\n",
    "import cv2"
   ]
  },
  {
   "cell_type": "markdown",
   "metadata": {
    "id": "uY1ceK63OuFY"
   },
   "source": [
    "### Function to display images in Jupyter Notebooks and Google Colab"
   ]
  },
  {
   "cell_type": "code",
   "execution_count": null,
   "metadata": {
    "id": "gkPDb7emOuwQ"
   },
   "outputs": [],
   "source": [
    "def plt_imshow(title, image):\n",
    "    # convert the image frame BGR to RGB color space and display it\n",
    "\timage = cv2.cvtColor(image, cv2.COLOR_BGR2RGB)\n",
    "\tplt.imshow(image)\n",
    "\tplt.title(title)\n",
    "\tplt.grid(False)\n",
    "\tplt.show()"
   ]
  },
  {
   "cell_type": "markdown",
   "metadata": {
    "id": "DgaM1Gy4Styv"
   },
   "source": [
    "### Implementing basic image resizing with OpenCV"
   ]
  },
  {
   "cell_type": "code",
   "execution_count": null,
   "metadata": {
    "id": "diZ5qxvYSyUT"
   },
   "outputs": [],
   "source": [
    "args = {\n",
    "    \"image\": \"minions.jpeg\"\n",
    "}"
   ]
  },
  {
   "cell_type": "code",
   "execution_count": null,
   "metadata": {
    "id": "GkgiFwtoS6rk"
   },
   "outputs": [],
   "source": [
    "# load the original input image and display it to our screen\n",
    "image = cv2.imread(args[\"image\"])\n",
    "plt_imshow(\"Original\", image)\n",
    "\n",
    "# let's resize our image to be 150 pixels wide, but in order to\n",
    "# prevent our resized image from being skewed/distorted, we must\n",
    "# first calculate the ratio of the *new* width to the *old* width\n",
    "r = 150.0 / image.shape[1]\n",
    "dim = (150, int(image.shape[0] * r))\n",
    "\n",
    "# perform the actual resizing of the image\n",
    "resized = cv2.resize(image, dim, interpolation=cv2.INTER_AREA)\n",
    "plt_imshow(\"Resized (Width)\", resized)"
   ]
  },
  {
   "cell_type": "code",
   "execution_count": null,
   "metadata": {
    "id": "ORkobHoUS-pc"
   },
   "outputs": [],
   "source": [
    "# let's resize the image to have a width of 50 pixels, again keeping\n",
    "# in mind the aspect ratio\n",
    "r = 50.0 / image.shape[0]\n",
    "dim = (int(image.shape[1] * r), 50)\n",
    "\n",
    "# perform the resizing\n",
    "resized = cv2.resize(image, dim, interpolation=cv2.INTER_AREA)\n",
    "plt_imshow(\"Resized (Height)\", resized)"
   ]
  },
  {
   "cell_type": "code",
   "execution_count": null,
   "metadata": {
    "id": "5uwuHLG9TEjr"
   },
   "outputs": [],
   "source": [
    "# calculating the ratio each and every time we want to resize an\n",
    "# image is a real pain, so let's use the imutils convenience\n",
    "# function which will *automatically* maintain our aspect ratio\n",
    "# for us\n",
    "resized = imutils.resize(image, width=100)\n",
    "plt_imshow(\"Resized via imutils\", resized)"
   ]
  },
  {
   "cell_type": "markdown",
   "metadata": {
    "id": "6pXy8QKSTRsm"
   },
   "source": [
    "### Comparing OpenCV interpolation methods\n"
   ]
  },
  {
   "cell_type": "code",
   "execution_count": null,
   "metadata": {
    "id": "EFo7fN-UTH1b"
   },
   "outputs": [],
   "source": [
    "# construct the list of interpolation methods in OpenCV\n",
    "methods = [\n",
    "\t(\"cv2.INTER_NEAREST\", cv2.INTER_NEAREST),\n",
    "\t(\"cv2.INTER_LINEAR\", cv2.INTER_LINEAR),\n",
    "\t(\"cv2.INTER_AREA\", cv2.INTER_AREA),\n",
    "\t(\"cv2.INTER_CUBIC\", cv2.INTER_CUBIC),\n",
    "\t(\"cv2.INTER_LANCZOS4\", cv2.INTER_LANCZOS4)]\n",
    "\n",
    "# loop over the interpolation methods\n",
    "for (name, method) in methods:\n",
    "\t# increase the size of the image by 3x using the current\n",
    "\t# interpolation method\n",
    "\tprint(\"[INFO] {}\".format(name))\n",
    "\tresized = imutils.resize(image, width=image.shape[1] * 3,\n",
    "\t\tinter=method)\n",
    "\tplt_imshow(\"Method: {}\".format(name), resized)"
   ]
  }
 ],
 "metadata": {
  "colab": {
   "collapsed_sections": [],
   "name": "opencv_resizing.ipynb",
   "provenance": [],
   "toc_visible": true
  },
  "kernelspec": {
   "display_name": "Python 3 (ipykernel)",
   "language": "python",
   "name": "python3"
  },
  "language_info": {
   "codemirror_mode": {
    "name": "ipython",
    "version": 3
   },
   "file_extension": ".py",
   "mimetype": "text/x-python",
   "name": "python",
   "nbconvert_exporter": "python",
   "pygments_lexer": "ipython3",
   "version": "3.8.10"
  }
 },
 "nbformat": 4,
 "nbformat_minor": 1
}
