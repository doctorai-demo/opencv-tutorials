{
 "cells": [
  {
   "cell_type": "markdown",
   "metadata": {
    "id": "j4RpK9pawQzP"
   },
   "source": [
    "# OpenCV Bitwise AND, OR, XOR, and NOT"
   ]
  },
  {
   "cell_type": "markdown",
   "metadata": {
    "id": "wcrOk6pURp50"
   },
   "source": [
    "### Import Packages"
   ]
  },
  {
   "cell_type": "code",
   "execution_count": null,
   "metadata": {
    "id": "VJaCNlDDRz6d"
   },
   "outputs": [],
   "source": [
    "# import the necessary packages\n",
    "from matplotlib import pyplot as plt\n",
    "import numpy as np\n",
    "import cv2"
   ]
  },
  {
   "cell_type": "markdown",
   "metadata": {
    "id": "lBrLwCtN5kqy"
   },
   "source": [
    "### Function to display images in Jupyter Notebooks and Google Colab"
   ]
  },
  {
   "cell_type": "code",
   "execution_count": null,
   "metadata": {
    "id": "fRw969Dp5Kdm"
   },
   "outputs": [],
   "source": [
    "def plt_imshow(title, image):\n",
    "\t# convert the image frame BGR to RGB color space and display it\n",
    "\timage = cv2.cvtColor(image, cv2.COLOR_BGR2RGB)\n",
    "\tplt.imshow(image)\n",
    "\tplt.title(title)\n",
    "\tplt.grid(False)\n",
    "\tplt.show()"
   ]
  },
  {
   "cell_type": "markdown",
   "metadata": {
    "id": "wqHP1MnPBCLX"
   },
   "source": [
    "### Implementing OpenCV AND, OR, XOR, and NOT bitwise operators"
   ]
  },
  {
   "cell_type": "code",
   "execution_count": null,
   "metadata": {
    "id": "-9UoHbsG_3Qv"
   },
   "outputs": [],
   "source": [
    "# draw a rectangle\n",
    "rectangle = np.zeros((300, 300), dtype=\"uint8\")\n",
    "cv2.rectangle(rectangle, (25, 25), (275, 275), 255, -1)\n",
    "plt_imshow(\"Rectangle\", rectangle)\n",
    "\n",
    "# draw a circle\n",
    "circle = np.zeros((300, 300), dtype = \"uint8\")\n",
    "cv2.circle(circle, (150, 150), 150, 255, -1)\n",
    "plt_imshow(\"Circle\", circle)"
   ]
  },
  {
   "cell_type": "code",
   "execution_count": null,
   "metadata": {
    "id": "zDq5smbuBILh"
   },
   "outputs": [],
   "source": [
    "# a bitwise 'AND' is only 'True' when both inputs have a value that\n",
    "# is \"ON' -- in this case, the cv2.bitwise_and function examines\n",
    "# every pixel in the rectangle and circle; if *BOTH* pixels have a\n",
    "# value greater than zero then the pixel is turned 'ON (i.e., 255)\n",
    "# in the output image; otherwise, the output value is set to\n",
    "# 'OFF' (i.e., 0)\n",
    "bitwiseAnd = cv2.bitwise_and(rectangle, circle)\n",
    "plt_imshow(\"AND\", bitwiseAnd)"
   ]
  },
  {
   "cell_type": "code",
   "execution_count": null,
   "metadata": {
    "id": "1s8j9h31BNYT"
   },
   "outputs": [],
   "source": [
    "# a bitwise 'OR' examines every pixel in the two inputs, and if\n",
    "# *EITHER* pixel in the rectangle or circle is greater than zero,\n",
    "# then the output pixel has a value of 255, otherwise it is 0\n",
    "bitwiseOr = cv2.bitwise_or(rectangle, circle)\n",
    "plt_imshow(\"OR\", bitwiseOr)"
   ]
  },
  {
   "cell_type": "code",
   "execution_count": null,
   "metadata": {
    "id": "ikLIrzexBRPR"
   },
   "outputs": [],
   "source": [
    "# the bitwise 'XOR' is identical to the 'OR' function, with one\n",
    "# exception: both the rectangle and circle are not allowed to *BOTH*\n",
    "# have values greater than 0 (only one can be 0)\n",
    "bitwiseXor = cv2.bitwise_xor(rectangle, circle)\n",
    "plt_imshow(\"XOR\", bitwiseXor)"
   ]
  },
  {
   "cell_type": "code",
   "execution_count": null,
   "metadata": {
    "id": "hDOJaJcTBT_4"
   },
   "outputs": [],
   "source": [
    "# finally, the bitwise 'NOT' inverts the values of the pixels; pixels\n",
    "# with a value of 255 become 0, and pixels with a value of 0 become\n",
    "# 255\n",
    "bitwiseNot = cv2.bitwise_not(circle)\n",
    "plt_imshow(\"NOT\", bitwiseNot)"
   ]
  }
 ],
 "metadata": {
  "colab": {
   "collapsed_sections": [],
   "name": "opencv_bitwise.ipynb",
   "provenance": []
  },
  "kernelspec": {
   "display_name": "Python 3 (ipykernel)",
   "language": "python",
   "name": "python3"
  },
  "language_info": {
   "codemirror_mode": {
    "name": "ipython",
    "version": 3
   },
   "file_extension": ".py",
   "mimetype": "text/x-python",
   "name": "python",
   "nbconvert_exporter": "python",
   "pygments_lexer": "ipython3",
   "version": "3.8.10"
  }
 },
 "nbformat": 4,
 "nbformat_minor": 1
}
