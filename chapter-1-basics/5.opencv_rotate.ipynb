{
 "cells": [
  {
   "cell_type": "markdown",
   "metadata": {
    "id": "c7uPgNc0NyO7"
   },
   "source": [
    "# OpenCV Rotate Image"
   ]
  },
  {
   "cell_type": "markdown",
   "metadata": {
    "id": "BcmY4DDJOSIt"
   },
   "source": [
    "### Import Packages"
   ]
  },
  {
   "cell_type": "code",
   "execution_count": null,
   "metadata": {
    "id": "BlcPho8lOOuF"
   },
   "outputs": [],
   "source": [
    "# import the necessary packages\n",
    "import matplotlib.pyplot as plt\n",
    "import argparse\n",
    "import imutils\n",
    "import cv2"
   ]
  },
  {
   "cell_type": "markdown",
   "metadata": {
    "id": "uY1ceK63OuFY"
   },
   "source": [
    "### Function to display images in Jupyter Notebooks and Google Colab"
   ]
  },
  {
   "cell_type": "code",
   "execution_count": null,
   "metadata": {
    "id": "gkPDb7emOuwQ"
   },
   "outputs": [],
   "source": [
    "def plt_imshow(title, image):\n",
    "    # convert the image frame BGR to RGB color space and display it\n",
    "\timage = cv2.cvtColor(image, cv2.COLOR_BGR2RGB)\n",
    "\tplt.imshow(image)\n",
    "\tplt.title(title)\n",
    "\tplt.grid(False)\n",
    "\tplt.show()"
   ]
  },
  {
   "cell_type": "markdown",
   "metadata": {
    "id": "X7_c5NjTOZEe"
   },
   "source": [
    "### Implementing image rotation with OpenCV"
   ]
  },
  {
   "cell_type": "code",
   "execution_count": null,
   "metadata": {
    "id": "Txalo2DGObge"
   },
   "outputs": [],
   "source": [
    "args = {\n",
    "    \"image\": \"opencv_logo.png\"\n",
    "}"
   ]
  },
  {
   "cell_type": "code",
   "execution_count": null,
   "metadata": {
    "id": "8ZgqVr3VOqlU"
   },
   "outputs": [],
   "source": [
    "# load the image and show it\n",
    "image = cv2.imread(args[\"image\"])\n",
    "plt_imshow(\"Original\", image)\n",
    "\n",
    "# grab the dimensions of the image and calculate the center of the\n",
    "# image\n",
    "(h, w) = image.shape[:2]\n",
    "(cX, cY) = (w // 2, h // 2)\n",
    "\n",
    "# rotate our image by 45 degrees around the center of the image\n",
    "M = cv2.getRotationMatrix2D((cX, cY), 45, 1.0)\n",
    "rotated = cv2.warpAffine(image, M, (w, h))\n",
    "plt_imshow(\"Rotated by 45 Degrees\", rotated)\n",
    "\n",
    "# rotate our image by -90 degrees around the image\n",
    "M = cv2.getRotationMatrix2D((cX, cY), -90, 1.0)\n",
    "rotated = cv2.warpAffine(image, M, (w, h))\n",
    "plt_imshow(\"Rotated by -90 Degrees\", rotated)"
   ]
  },
  {
   "cell_type": "code",
   "execution_count": null,
   "metadata": {
    "id": "mP7WQv9zOveK"
   },
   "outputs": [],
   "source": [
    "# rotate our image around an arbitrary point rather than the center\n",
    "M = cv2.getRotationMatrix2D((10, 10), 45, 1.0)\n",
    "rotated = cv2.warpAffine(image, M, (w, h))\n",
    "plt_imshow(\"Rotated by Arbitrary Point\", rotated)"
   ]
  },
  {
   "cell_type": "code",
   "execution_count": null,
   "metadata": {
    "id": "e03VvyFhO0o5"
   },
   "outputs": [],
   "source": [
    "# use our imutils function to rotate an image 180 degrees\n",
    "rotated = imutils.rotate(image, 180)\n",
    "plt_imshow(\"Rotated by 180 Degrees\", rotated)"
   ]
  },
  {
   "cell_type": "code",
   "execution_count": null,
   "metadata": {
    "id": "15kHAH0PO3wv"
   },
   "outputs": [],
   "source": [
    "# rotate our image by 33 degrees counterclockwise, ensuring the\n",
    "# entire rotated image still views in the viewing area\n",
    "rotated = imutils.rotate_bound(image, -33)\n",
    "plt_imshow(\"Rotated Without Cropping\", rotated)"
   ]
  }
 ],
 "metadata": {
  "colab": {
   "collapsed_sections": [],
   "name": "opencv_rotate.ipynb",
   "provenance": [],
   "toc_visible": true
  },
  "kernelspec": {
   "display_name": "Python 3 (ipykernel)",
   "language": "python",
   "name": "python3"
  },
  "language_info": {
   "codemirror_mode": {
    "name": "ipython",
    "version": 3
   },
   "file_extension": ".py",
   "mimetype": "text/x-python",
   "name": "python",
   "nbconvert_exporter": "python",
   "pygments_lexer": "ipython3",
   "version": "3.8.10"
  }
 },
 "nbformat": 4,
 "nbformat_minor": 1
}
