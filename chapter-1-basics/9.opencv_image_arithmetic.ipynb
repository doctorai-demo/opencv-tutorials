{
 "cells": [
  {
   "cell_type": "markdown",
   "metadata": {
    "id": "j4RpK9pawQzP"
   },
   "source": [
    "# Image Arithmetic OpenCV"
   ]
  },
  {
   "cell_type": "markdown",
   "metadata": {
    "id": "wcrOk6pURp50"
   },
   "source": [
    "### Import Packages"
   ]
  },
  {
   "cell_type": "code",
   "execution_count": null,
   "metadata": {
    "id": "VJaCNlDDRz6d"
   },
   "outputs": [],
   "source": [
    "# import the necessary packages\n",
    "from matplotlib import pyplot as plt\n",
    "import numpy as np\n",
    "import argparse\n",
    "import cv2"
   ]
  },
  {
   "cell_type": "markdown",
   "metadata": {
    "id": "lBrLwCtN5kqy"
   },
   "source": [
    "### Function to display images in Jupyter Notebooks and Google Colab"
   ]
  },
  {
   "cell_type": "code",
   "execution_count": null,
   "metadata": {
    "id": "fRw969Dp5Kdm"
   },
   "outputs": [],
   "source": [
    "def plt_imshow(title, image):\n",
    "\t# convert the image frame BGR to RGB color space and display it\n",
    "\timage = cv2.cvtColor(image, cv2.COLOR_BGR2RGB)\n",
    "\tplt.imshow(image)\n",
    "\tplt.title(title)\n",
    "\tplt.grid(False)\n",
    "\tplt.show()"
   ]
  },
  {
   "cell_type": "markdown",
   "metadata": {
    "id": "iH8-nfqp35qq"
   },
   "source": [
    "### Implementing image arithmetic with OpenCV"
   ]
  },
  {
   "cell_type": "code",
   "execution_count": null,
   "metadata": {
    "id": "H_aj3SDjnns4"
   },
   "outputs": [],
   "source": [
    "args = {\n",
    "\t\"image\": \"grand_canyon.png\"\n",
    "}"
   ]
  },
  {
   "cell_type": "code",
   "execution_count": null,
   "metadata": {
    "id": "Xf1415LG4HaT"
   },
   "outputs": [],
   "source": [
    "# images are NumPy arrays stored as unsigned 8-bit integers (unit8)\n",
    "# with values in the range [0, 255]; when using the add/subtract\n",
    "# functions in OpenCV, these values will be *clipped* to this range,\n",
    "# even if they fall outside the range [0, 255] after applying the\n",
    "# operation\n",
    "added = cv2.add(np.uint8([200]), np.uint8([100]))\n",
    "subtracted = cv2.subtract(np.uint8([50]), np.uint8([100]))\n",
    "print(\"max of 255: {}\".format(added))\n",
    "print(\"min of 0: {}\".format(subtracted))"
   ]
  },
  {
   "cell_type": "code",
   "execution_count": null,
   "metadata": {
    "id": "uSBLjUtU4LGj"
   },
   "outputs": [],
   "source": [
    "# using NumPy arithmetic operations (rather than OpenCV operations)\n",
    "# will result in a modulo (\"wrap around\") instead of being clipped\n",
    "# to the range [0, 255]\n",
    "added = np.uint8([200]) + np.uint8([100])\n",
    "subtracted = np.uint8([50]) - np.uint8([100])\n",
    "print(\"wrap around: {}\".format(added))\n",
    "print(\"wrap around: {}\".format(subtracted))"
   ]
  },
  {
   "cell_type": "code",
   "execution_count": null,
   "metadata": {
    "id": "UKMIMUXN4RCT"
   },
   "outputs": [],
   "source": [
    "# load the original input image and display it to our screen\n",
    "image = cv2.imread(args[\"image\"])\n",
    "plt_imshow(\"Original\", image)"
   ]
  },
  {
   "cell_type": "code",
   "execution_count": null,
   "metadata": {
    "id": "7MDDfXXi4U9t"
   },
   "outputs": [],
   "source": [
    "# increasing the pixel intensities in our input image by 100 is\n",
    "# accomplished by constructing a NumPy array that has the *same\n",
    "# dimensions* as our input image, filling it with ones, multiplying\n",
    "# it by 100, and then adding the input image and matrix together\n",
    "M = np.ones(image.shape, dtype=\"uint8\") * 100\n",
    "added = cv2.add(image, M)\n",
    "plt_imshow(\"Lighter\", added)"
   ]
  },
  {
   "cell_type": "code",
   "execution_count": null,
   "metadata": {
    "id": "2xmOaNyU4Ypk"
   },
   "outputs": [],
   "source": [
    "# similarly, we can subtract 50 from all pixels in our image and make it\n",
    "# darker\n",
    "M = np.ones(image.shape, dtype=\"uint8\") * 50\n",
    "subtracted = cv2.subtract(image, M)\n",
    "plt_imshow(\"Darker\", subtracted)"
   ]
  }
 ],
 "metadata": {
  "colab": {
   "collapsed_sections": [],
   "name": "opencv_image_arithmetic.ipynb",
   "provenance": [],
   "toc_visible": true
  },
  "kernelspec": {
   "display_name": "Python 3 (ipykernel)",
   "language": "python",
   "name": "python3"
  },
  "language_info": {
   "codemirror_mode": {
    "name": "ipython",
    "version": 3
   },
   "file_extension": ".py",
   "mimetype": "text/x-python",
   "name": "python",
   "nbconvert_exporter": "python",
   "pygments_lexer": "ipython3",
   "version": "3.8.10"
  }
 },
 "nbformat": 4,
 "nbformat_minor": 1
}
