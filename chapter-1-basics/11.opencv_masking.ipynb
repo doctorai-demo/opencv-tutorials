{
 "cells": [
  {
   "cell_type": "markdown",
   "metadata": {
    "id": "j4RpK9pawQzP"
   },
   "source": [
    "# Image Masking with OpenCV"
   ]
  },
  {
   "cell_type": "markdown",
   "metadata": {
    "id": "wcrOk6pURp50"
   },
   "source": [
    "### Import Packages"
   ]
  },
  {
   "cell_type": "code",
   "execution_count": null,
   "metadata": {
    "id": "VJaCNlDDRz6d"
   },
   "outputs": [],
   "source": [
    "# import the necessary packages\n",
    "from matplotlib import pyplot as plt\n",
    "import numpy as np\n",
    "import argparse\n",
    "import cv2"
   ]
  },
  {
   "cell_type": "markdown",
   "metadata": {
    "id": "lBrLwCtN5kqy"
   },
   "source": [
    "### Function to display images in Jupyter Notebooks and Google Colab"
   ]
  },
  {
   "cell_type": "code",
   "execution_count": null,
   "metadata": {
    "id": "fRw969Dp5Kdm"
   },
   "outputs": [],
   "source": [
    "def plt_imshow(title, image):\n",
    "\t# convert the image frame BGR to RGB color space and display it\n",
    "\timage = cv2.cvtColor(image, cv2.COLOR_BGR2RGB)\n",
    "\tplt.imshow(image)\n",
    "\tplt.title(title)\n",
    "\tplt.grid(False)\n",
    "\tplt.show()"
   ]
  },
  {
   "cell_type": "markdown",
   "metadata": {
    "id": "RDzVnVDL7oNg"
   },
   "source": [
    "### Implementing image arithmetic with OpenCV"
   ]
  },
  {
   "cell_type": "code",
   "execution_count": null,
   "metadata": {
    "id": "C0VidOkV64nK"
   },
   "outputs": [],
   "source": [
    "args = {\n",
    "\t\"image\": \"adrian.png\"\n",
    "}"
   ]
  },
  {
   "cell_type": "code",
   "execution_count": null,
   "metadata": {
    "id": "4e3yPYPx7uU2"
   },
   "outputs": [],
   "source": [
    "# load the original input image and display it to our screen\n",
    "image = cv2.imread(args[\"image\"])\n",
    "plt_imshow(\"Original\", image)\n",
    "\n",
    "# a mask is the same size as our image, but has only two pixel\n",
    "# values, 0 and 255 -- pixels with a value of 0 (background) are\n",
    "# ignored in the original image while mask pixels with a value of\n",
    "# 255 (foreground) are allowed to be kept\n",
    "mask = np.zeros(image.shape[:2], dtype=\"uint8\")\n",
    "cv2.rectangle(mask, (0, 90), (290, 450), 255, -1)\n",
    "plt_imshow(\"Rectangular Mask\", mask)\n",
    "\n",
    "# apply our mask -- notice how only the person in the image is\n",
    "# cropped out\n",
    "masked = cv2.bitwise_and(image, image, mask=mask)\n",
    "plt_imshow(\"Mask Applied to Image\", masked)"
   ]
  },
  {
   "cell_type": "code",
   "execution_count": null,
   "metadata": {
    "id": "IhjnVmLc70Iu"
   },
   "outputs": [],
   "source": [
    "# now, let's make a circular mask with a radius of 100 pixels and\n",
    "# apply the mask again\n",
    "mask = np.zeros(image.shape[:2], dtype=\"uint8\")\n",
    "cv2.circle(mask, (145, 200), 100, 255, -1)\n",
    "masked = cv2.bitwise_and(image, image, mask=mask)\n",
    "\n",
    "# show the output images\n",
    "plt_imshow(\"Circular Mask\", mask)\n",
    "plt_imshow(\"Mask Applied to Image\", masked)"
   ]
  }
 ],
 "metadata": {
  "colab": {
   "collapsed_sections": [],
   "name": "opencv_masking.ipynb",
   "provenance": [],
   "toc_visible": true
  },
  "kernelspec": {
   "display_name": "Python 3 (ipykernel)",
   "language": "python",
   "name": "python3"
  },
  "language_info": {
   "codemirror_mode": {
    "name": "ipython",
    "version": 3
   },
   "file_extension": ".py",
   "mimetype": "text/x-python",
   "name": "python",
   "nbconvert_exporter": "python",
   "pygments_lexer": "ipython3",
   "version": "3.8.10"
  }
 },
 "nbformat": 4,
 "nbformat_minor": 1
}
