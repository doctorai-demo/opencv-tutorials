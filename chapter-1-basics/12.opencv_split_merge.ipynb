{
 "cells": [
  {
   "cell_type": "markdown",
   "metadata": {
    "id": "j4RpK9pawQzP"
   },
   "source": [
    "# Splitting and Merging Channels with OpenCV"
   ]
  },
  {
   "cell_type": "code",
   "execution_count": null,
   "metadata": {},
   "outputs": [],
   "source": [
    "!wget https://github.com/doctorai-demo/opencv-tutorials/raw/main/chapter-1-basics/images/opencv_logo.png"
   ]
  },
  {
   "cell_type": "markdown",
   "metadata": {
    "id": "wcrOk6pURp50"
   },
   "source": [
    "### Import Packages"
   ]
  },
  {
   "cell_type": "code",
   "execution_count": null,
   "metadata": {
    "id": "VJaCNlDDRz6d"
   },
   "outputs": [],
   "source": [
    "# import the necessary packages\n",
    "from matplotlib import pyplot as plt\n",
    "import numpy as np\n",
    "import argparse\n",
    "import cv2"
   ]
  },
  {
   "cell_type": "markdown",
   "metadata": {
    "id": "lBrLwCtN5kqy"
   },
   "source": [
    "### Function to display images in Jupyter Notebooks and Google Colab"
   ]
  },
  {
   "cell_type": "code",
   "execution_count": null,
   "metadata": {
    "id": "fRw969Dp5Kdm"
   },
   "outputs": [],
   "source": [
    "def plt_imshow(title, image):\n",
    "\t# convert the image frame BGR to RGB color space and display it\n",
    "\timage = cv2.cvtColor(image, cv2.COLOR_BGR2RGB)\n",
    "\tplt.imshow(image)\n",
    "\tplt.title(title)\n",
    "\tplt.grid(False)\n",
    "\tplt.show()"
   ]
  },
  {
   "cell_type": "markdown",
   "metadata": {
    "id": "70hAWGrBDMli"
   },
   "source": [
    "### How to split and merge channels with OpenCV\n"
   ]
  },
  {
   "cell_type": "code",
   "execution_count": null,
   "metadata": {
    "id": "AgdFxpQRDO9g"
   },
   "outputs": [],
   "source": [
    "args = {\n",
    "\t\"image\": \"opencv_logo.png\"\n",
    "}"
   ]
  },
  {
   "cell_type": "code",
   "execution_count": null,
   "metadata": {
    "id": "lE64rhBbMxI9"
   },
   "outputs": [],
   "source": [
    "# load the input image and grab each channel -- note how OpenCV\n",
    "# represents images as NumPy arrays with channels in Blue, Green,\n",
    "# Red ordering rather than Red, Green Blue\n",
    "image = cv2.imread(args[\"image\"])\n",
    "(B, G, R) = cv2.split(image)\n",
    "\n",
    "# show each channel individually\n",
    "plt_imshow(\"Red\", R)\n",
    "plt_imshow(\"Green\", G)\n",
    "plt_imshow(\"Blue\", B)"
   ]
  },
  {
   "cell_type": "code",
   "execution_count": null,
   "metadata": {
    "id": "plY2SePZM2Nt"
   },
   "outputs": [],
   "source": [
    "merged = cv2.merge([B, G, R])\n",
    "plt_imshow(\"Merged\", merged)"
   ]
  },
  {
   "cell_type": "code",
   "execution_count": null,
   "metadata": {
    "id": "MFS3mhQVNwrz"
   },
   "outputs": [],
   "source": [
    "# visualize each channel in color\n",
    "zeros = np.zeros(image.shape[:2], dtype=\"uint8\")\n",
    "plt_imshow(\"Red\", cv2.merge([zeros, zeros, R]))\n",
    "plt_imshow(\"Green\", cv2.merge([zeros, G, zeros]))\n",
    "plt_imshow(\"Blue\", cv2.merge([B, zeros, zeros]))"
   ]
  }
 ],
 "metadata": {
  "colab": {
   "collapsed_sections": [],
   "name": "opencv_split_merge.ipynb",
   "provenance": [],
   "toc_visible": true
  },
  "kernelspec": {
   "display_name": "Python 3 (ipykernel)",
   "language": "python",
   "name": "python3"
  },
  "language_info": {
   "codemirror_mode": {
    "name": "ipython",
    "version": 3
   },
   "file_extension": ".py",
   "mimetype": "text/x-python",
   "name": "python",
   "nbconvert_exporter": "python",
   "pygments_lexer": "ipython3",
   "version": "3.8.10"
  }
 },
 "nbformat": 4,
 "nbformat_minor": 1
}
