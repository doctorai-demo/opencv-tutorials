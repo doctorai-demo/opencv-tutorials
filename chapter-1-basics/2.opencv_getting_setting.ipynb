{
 "cells": [
  {
   "cell_type": "markdown",
   "metadata": {
    "id": "j4RpK9pawQzP"
   },
   "source": [
    "# OpenCV Getting and Setting Pixels"
   ]
  },
  {
   "cell_type": "markdown",
   "metadata": {
    "id": "wcrOk6pURp50"
   },
   "source": [
    "### Import Packages"
   ]
  },
  {
   "cell_type": "code",
   "execution_count": null,
   "metadata": {
    "id": "VJaCNlDDRz6d"
   },
   "outputs": [],
   "source": [
    "# import the necessary packages\n",
    "from matplotlib import pyplot as plt\n",
    "import argparse\n",
    "import cv2"
   ]
  },
  {
   "cell_type": "markdown",
   "metadata": {
    "id": "lBrLwCtN5kqy"
   },
   "source": [
    "### Function to display images in Jupyter Notebooks and Google Colab"
   ]
  },
  {
   "cell_type": "code",
   "execution_count": null,
   "metadata": {
    "id": "fRw969Dp5Kdm"
   },
   "outputs": [],
   "source": [
    "def plt_imshow(title, image):\n",
    "\t# convert the image frame BGR to RGB color space and display it\n",
    "\timage = cv2.cvtColor(image, cv2.COLOR_BGR2RGB)\n",
    "\tplt.imshow(image)\n",
    "\tplt.title(title)\n",
    "\tplt.grid(False)\n",
    "\tplt.show()"
   ]
  },
  {
   "cell_type": "markdown",
   "metadata": {
    "id": "Jppw5-Bd56H-"
   },
   "source": [
    "### Getting and setting pixels with OpenCV"
   ]
  },
  {
   "cell_type": "code",
   "execution_count": null,
   "metadata": {
    "id": "okM7Bpyeq8Kc"
   },
   "outputs": [],
   "source": [
    "\n",
    "args = {\n",
    "        \"image\": \"adrian.png\"\n",
    "}"
   ]
  },
  {
   "cell_type": "code",
   "execution_count": null,
   "metadata": {
    "id": "qZQt5_gTtHP1"
   },
   "outputs": [],
   "source": [
    "# load the image, grab its spatial dimensions (width and height),\n",
    "# and then display the original image to our screen\n",
    "image = cv2.imread(args[\"image\"])\n",
    "(h, w) = image.shape[:2]\n",
    "plt_imshow(\"Original\", image)"
   ]
  },
  {
   "cell_type": "code",
   "execution_count": null,
   "metadata": {
    "id": "dRzT6356tHpw"
   },
   "outputs": [],
   "source": [
    "# images are simply NumPy arrays -- with the origin (0, 0) located at\n",
    "# the top-left of the image\n",
    "(b, g, r) = image[0, 0]\n",
    "print(\"Pixel at (0, 0) - Red: {}, Green: {}, Blue: {}\".format(r, g, b))\n",
    "\n",
    "# access the pixel located at x=50, y=20\n",
    "(b, g, r) = image[20, 50]\n",
    "print(\"Pixel at (50, 20) - Red: {}, Green: {}, Blue: {}\".format(r, g, b))\n",
    "\n",
    "# update the pixel at (50, 20) and set it to red\n",
    "image[20, 50] = (0, 0, 255)\n",
    "(b, g, r) = image[20, 50]\n",
    "print(\"Pixel at (50, 20) - Red: {}, Green: {}, Blue: {}\".format(r, g, b))"
   ]
  },
  {
   "cell_type": "code",
   "execution_count": null,
   "metadata": {
    "id": "zNeWhHGmtJyB"
   },
   "outputs": [],
   "source": [
    "# compute the center of the image, which is simply the width and height\n",
    "# divided by two\n",
    "(cX, cY) = (w // 2, h // 2)\n",
    "\n",
    "# since we are using NumPy arrays, we can apply array slicing to grab\n",
    "# large chunks/regions of interest from the image -- here we grab the\n",
    "# top-left corner of the image\n",
    "tl = image[0:cY, 0:cX]\n",
    "plt_imshow(\"Top-Left Corner\", tl)"
   ]
  },
  {
   "cell_type": "code",
   "execution_count": null,
   "metadata": {
    "id": "T6y6dXT1tMAF"
   },
   "outputs": [],
   "source": [
    "# in a similar fashion, we can crop the top-right, bottom-right, and\n",
    "# bottom-left corners of the image and then display them to our\n",
    "# screen\n",
    "tr = image[0:cY, cX:w]\n",
    "br = image[cY:h, cX:w]\n",
    "bl = image[cY:h, 0:cX]\n",
    "plt_imshow(\"Top-Right Corner\", tr)\n",
    "plt_imshow(\"Bottom-Right Corner\", br)\n",
    "plt_imshow(\"Bottom-Left Corner\", bl)"
   ]
  },
  {
   "cell_type": "code",
   "execution_count": null,
   "metadata": {
    "id": "XIYUuB0ktOvg"
   },
   "outputs": [],
   "source": [
    "# set the top-left corner of the original image to be green\n",
    "image[0:cY, 0:cX] = (0, 255, 0)\n",
    "\n",
    "# Show our updated image\n",
    "plt_imshow(\"Updated\", image)"
   ]
  }
 ],
 "metadata": {
  "colab": {
   "collapsed_sections": [],
   "name": "opencv_getting_setting.ipynb",
   "provenance": []
  },
  "kernelspec": {
   "display_name": "Python 3 (ipykernel)",
   "language": "python",
   "name": "python3"
  },
  "language_info": {
   "codemirror_mode": {
    "name": "ipython",
    "version": 3
   },
   "file_extension": ".py",
   "mimetype": "text/x-python",
   "name": "python",
   "nbconvert_exporter": "python",
   "pygments_lexer": "ipython3",
   "version": "3.8.10"
  }
 },
 "nbformat": 4,
 "nbformat_minor": 1
}
