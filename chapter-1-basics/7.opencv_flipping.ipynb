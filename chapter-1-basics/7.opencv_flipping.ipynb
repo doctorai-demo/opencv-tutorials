{
 "cells": [
  {
   "cell_type": "markdown",
   "metadata": {
    "id": "j4RpK9pawQzP"
   },
   "source": [
    "# OpenCV Flip Image ( cv2.flip )"
   ]
  },
  {
   "cell_type": "markdown",
   "metadata": {
    "id": "wcrOk6pURp50"
   },
   "source": [
    "### Import Packages"
   ]
  },
  {
   "cell_type": "code",
   "execution_count": null,
   "metadata": {
    "id": "VJaCNlDDRz6d"
   },
   "outputs": [],
   "source": [
    "# import the necessary packages\n",
    "from matplotlib import pyplot as plt\n",
    "import numpy as np\n",
    "import argparse\n",
    "import cv2"
   ]
  },
  {
   "cell_type": "markdown",
   "metadata": {
    "id": "lBrLwCtN5kqy"
   },
   "source": [
    "### Function to display images in Jupyter Notebooks and Google Colab"
   ]
  },
  {
   "cell_type": "code",
   "execution_count": null,
   "metadata": {
    "id": "fRw969Dp5Kdm"
   },
   "outputs": [],
   "source": [
    "def plt_imshow(title, image):\n",
    "\t# convert the image frame BGR to RGB color space and display it\n",
    "\timage = cv2.cvtColor(image, cv2.COLOR_BGR2RGB)\n",
    "\tplt.imshow(image)\n",
    "\tplt.title(title)\n",
    "\tplt.grid(False)\n",
    "\tplt.show()"
   ]
  },
  {
   "cell_type": "markdown",
   "metadata": {
    "id": "70hAWGrBDMli"
   },
   "source": [
    "### Implementing image flipping with OpenCV"
   ]
  },
  {
   "cell_type": "code",
   "execution_count": null,
   "metadata": {
    "id": "AgdFxpQRDO9g"
   },
   "outputs": [],
   "source": [
    "args = {\n",
    "\t\"image\": \"opencv_logo.png\"\n",
    "}"
   ]
  },
  {
   "cell_type": "code",
   "execution_count": null,
   "metadata": {
    "id": "TlWdkKacDkEF"
   },
   "outputs": [],
   "source": [
    "# load the original input image and display it to our screen\n",
    "image = cv2.imread(args[\"image\"])\n",
    "plt_imshow(\"Original\", image)\n",
    "\n",
    "# flip the image horizontally\n",
    "print(\"[INFO] flipping image horizontally...\")\n",
    "flipped = cv2.flip(image, 1)\n",
    "plt_imshow(\"Flipped Horizontally\", flipped)"
   ]
  },
  {
   "cell_type": "code",
   "execution_count": null,
   "metadata": {
    "id": "xra7PjakD_9M"
   },
   "outputs": [],
   "source": [
    "# flip the image vertically\n",
    "flipped = cv2.flip(image, 0)\n",
    "print(\"[INFO] flipping image vertically...\")\n",
    "plt_imshow(\"Flipped Vertically\", flipped)"
   ]
  },
  {
   "cell_type": "code",
   "execution_count": null,
   "metadata": {
    "id": "DHFa-TCzEEyv"
   },
   "outputs": [],
   "source": [
    "# flip the image along both axes\n",
    "flipped = cv2.flip(image, -1)\n",
    "print(\"[INFO] flipping image horizontally and vertically...\")\n",
    "plt_imshow(\"Flipped Horizontally & Vertically\", flipped)"
   ]
  }
 ],
 "metadata": {
  "colab": {
   "collapsed_sections": [],
   "name": "opencv_flipping.ipynb",
   "provenance": [],
   "toc_visible": true
  },
  "kernelspec": {
   "display_name": "Python 3 (ipykernel)",
   "language": "python",
   "name": "python3"
  },
  "language_info": {
   "codemirror_mode": {
    "name": "ipython",
    "version": 3
   },
   "file_extension": ".py",
   "mimetype": "text/x-python",
   "name": "python",
   "nbconvert_exporter": "python",
   "pygments_lexer": "ipython3",
   "version": "3.8.10"
  }
 },
 "nbformat": 4,
 "nbformat_minor": 1
}
