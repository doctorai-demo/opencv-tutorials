{
 "cells": [
  {
   "cell_type": "markdown",
   "metadata": {
    "id": "j4RpK9pawQzP"
   },
   "source": [
    "# Drawing with OpenCV"
   ]
  },
  {
   "cell_type": "code",
   "execution_count": null,
   "metadata": {},
   "outputs": [],
   "source": [
    "!wget https://github.com/doctorai-demo/opencv-tutorials/raw/main/chapter-1-basics/images/minions.jpeg"
   ]
  },
  {
   "cell_type": "markdown",
   "metadata": {
    "id": "wcrOk6pURp50"
   },
   "source": [
    "### Import Packages"
   ]
  },
  {
   "cell_type": "code",
   "execution_count": null,
   "metadata": {
    "id": "VJaCNlDDRz6d"
   },
   "outputs": [],
   "source": [
    "# import the necessary packages\n",
    "from matplotlib import pyplot as plt\n",
    "import numpy as np\n",
    "import cv2"
   ]
  },
  {
   "cell_type": "markdown",
   "metadata": {
    "id": "zHtPd75uu-FH"
   },
   "source": [
    "### Function to display images in Jupyter Notebooks and Google Colab"
   ]
  },
  {
   "cell_type": "code",
   "execution_count": null,
   "metadata": {
    "id": "fRw969Dp5Kdm"
   },
   "outputs": [],
   "source": [
    "def plt_imshow(title, image):\n",
    "\t# convert the image frame BGR to RGB color space and display it\n",
    "\timage = cv2.cvtColor(image, cv2.COLOR_BGR2RGB)\n",
    "\tplt.imshow(image)\n",
    "\tplt.title(title)\n",
    "\tplt.grid(False)\n",
    "\tplt.show()"
   ]
  },
  {
   "cell_type": "markdown",
   "metadata": {
    "id": "lBrLwCtN5kqy"
   },
   "source": [
    "### Implementing basic drawing functions with OpenCV"
   ]
  },
  {
   "cell_type": "code",
   "execution_count": null,
   "metadata": {
    "id": "FiT34Gf-u7ep"
   },
   "outputs": [],
   "source": [
    "# initialize our canvas as a 300x300 pixel image with 3 channels\n",
    "# (Red, Green, and Blue) with a black background\n",
    "canvas = np.zeros((300, 300, 3), dtype=\"uint8\")"
   ]
  },
  {
   "cell_type": "code",
   "execution_count": null,
   "metadata": {
    "id": "YA2G58U_vC73"
   },
   "outputs": [],
   "source": [
    "# draw a green line from the top-left corner of our canvas to the\n",
    "# bottom-right\n",
    "green = (0, 255, 0)\n",
    "cv2.line(canvas, (0, 0), (300, 300), green)\n",
    "plt_imshow(\"Canvas\", canvas)\n",
    "\n",
    "# draw a 3 pixel thick red line from the top-right corner to the\n",
    "# bottom-left\n",
    "red = (0, 0, 255)\n",
    "cv2.line(canvas, (300, 0), (0, 300), red, 3)\n",
    "plt_imshow(\"Canvas\", canvas)"
   ]
  },
  {
   "cell_type": "code",
   "execution_count": null,
   "metadata": {
    "id": "J2tRTxaHvHQS"
   },
   "outputs": [],
   "source": [
    "# draw a green 50x50 pixel square, starting at 10x10 and ending at 60x60\n",
    "cv2.rectangle(canvas, (10, 10), (60, 60), green)\n",
    "plt_imshow(\"Canvas\", canvas)\n",
    "\n",
    "# draw another rectangle, this one red with 5 pixel thickness\n",
    "cv2.rectangle(canvas, (50, 200), (200, 225), red, 5)\n",
    "plt_imshow(\"Canvas\", canvas)\n",
    "\n",
    "# draw a final rectangle (blue and filled in )\n",
    "blue = (255, 0, 0)\n",
    "cv2.rectangle(canvas, (200, 50), (225, 125), blue, -1)\n",
    "plt_imshow(\"Canvas\", canvas)"
   ]
  },
  {
   "cell_type": "code",
   "execution_count": null,
   "metadata": {
    "id": "JdzXRAZTvPNJ"
   },
   "outputs": [],
   "source": [
    "# re-initialize our canvas as an empty array, then compute the\n",
    "# center (x, y)-coordinates of the canvas\n",
    "canvas = np.zeros((300, 300, 3), dtype=\"uint8\")\n",
    "(centerX, centerY) = (canvas.shape[1] // 2, canvas.shape[0] // 2)\n",
    "white = (255, 255, 255)\n",
    "\n",
    "# loop over increasing radii, from 25 pixels to 150 pixels in 25\n",
    "# pixel increments\n",
    "for r in range(0, 175, 25):\n",
    "\t# draw a white circle with the current radius size\n",
    "\tcv2.circle(canvas, (centerX, centerY), r, white)\n",
    "\n",
    "# show our work of art\n",
    "plt_imshow(\"Canvas\", canvas)"
   ]
  },
  {
   "cell_type": "code",
   "execution_count": null,
   "metadata": {
    "id": "W5GGlSqgvXOa"
   },
   "outputs": [],
   "source": [
    "# re-initialize our canvas once again\n",
    "canvas = np.zeros((300, 300, 3), dtype=\"uint8\")\n",
    "\n",
    "# let's draw 25 random circles\n",
    "for i in range(0, 25):\n",
    "\t# randomly generate a radius size between 5 and 200, generate a\n",
    "\t# random color, and then pick a random point on our canvas where\n",
    "\t# the circle will be drawn\n",
    "\tradius = np.random.randint(5, high=200)\n",
    "\tcolor = np.random.randint(0, high=256, size=(3,)).tolist()\n",
    "\tpt = np.random.randint(0, high=300, size=(2,))\n",
    "\n",
    "\t# draw our random circle on the canvas\n",
    "\tcv2.circle(canvas, tuple(pt), radius, color, -1)\n",
    "\n",
    "# display our masterpiece to our screen\n",
    "plt_imshow(\"Canvas\", canvas)"
   ]
  },
  {
   "cell_type": "markdown",
   "metadata": {
    "id": "Jppw5-Bd56H-"
   },
   "source": [
    "### Drawing on images with OpenCV"
   ]
  },
  {
   "cell_type": "code",
   "execution_count": null,
   "metadata": {
    "id": "okM7Bpyeq8Kc"
   },
   "outputs": [],
   "source": [
    "image_path = \"minions.jpeg\""
   ]
  },
  {
   "cell_type": "code",
   "execution_count": null,
   "metadata": {
    "id": "06vFvCkZvlZE"
   },
   "outputs": [],
   "source": [
    "# load the input image from disk\n",
    "image = cv2.imread(image_path)\n",
    "\n",
    "# draw a circle around my face, two filled in circles covering my\n",
    "# eyes, and a rectangle over top of my mouth\n",
    "cv2.circle(image, (168, 188), 90, (0, 0, 255), 2)\n",
    "cv2.circle(image, (150, 164), 10, (0, 0, 255), -1)\n",
    "cv2.circle(image, (192, 174), 10, (0, 0, 255), -1)\n",
    "cv2.rectangle(image, (134, 200), (186, 218), (0, 0, 255), -1)\n",
    "\n",
    "# show the output image\n",
    "plt_imshow(\"Output\", image)"
   ]
  }
 ],
 "metadata": {
  "colab": {
   "collapsed_sections": [],
   "name": "opencv_drawing.ipynb",
   "provenance": []
  },
  "kernelspec": {
   "display_name": "Python 3 (ipykernel)",
   "language": "python",
   "name": "python3"
  },
  "language_info": {
   "codemirror_mode": {
    "name": "ipython",
    "version": 3
   },
   "file_extension": ".py",
   "mimetype": "text/x-python",
   "name": "python",
   "nbconvert_exporter": "python",
   "pygments_lexer": "ipython3",
   "version": "3.8.10"
  }
 },
 "nbformat": 4,
 "nbformat_minor": 1
}
